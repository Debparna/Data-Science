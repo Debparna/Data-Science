{
 "cells": [
  {
   "cell_type": "markdown",
   "metadata": {},
   "source": [
    "# STA 141B Assignment 1\n",
    "\n",
    "Due __Jan 17, 2019__ by 11:59pm. Submit by editing this file, committing the changes with git, and then pushing to your private GitHub repo for the assignment. This assignment is intentionally short so that you can submit a little bit early and have time to work out any issues with git!\n",
    "\n",
    "Please do not rename this file or delete the exercise cells, because it will interfere with our grading tools.\n",
    "\n",
    "Put your answers in new cells after each exercise. You can make as many new cells as you like. Use code cells for code and Markdown cells for text. Answer all questions with complete sentences.\n",
    "\n",
    "This assignment will be graded for correctness.\n",
    "\n",
    "The purpose of this assignment is to practice programming fundamentals: writing functions, if-statements, and loops. We'll get to more interesting and data science-y exercises in the next assignment."
   ]
  },
  {
   "cell_type": "markdown",
   "metadata": {
    "tags": [
     "exercise"
    ]
   },
   "source": [
    "## Warm Ups\n",
    "\n",
    "__Exercise 1.1 (10 points).__ In lecture, we saw that Python's lists have reference semantics. Give a similar example that shows Python's dictionaries have reference semantics. Make sure to explain your example."
   ]
  },
  {
   "cell_type": "code",
   "execution_count": 3,
   "metadata": {},
   "outputs": [
    {
     "name": "stdout",
     "output_type": "stream",
     "text": [
      "{'name': 'john', 'code': 6734, 'dept': 'sales'}\n",
      "{'name': 'john', 'code': 6734, 'dept': 'sales'}\n",
      "{'code': 6734, 'dept': 'sales'}\n"
     ]
    }
   ],
   "source": [
    "x = {'name': 'john', 'code':6734, 'dept': 'sales'}\n",
    "print(x)\n",
    "y = x\n",
    "print(y)\n",
    "del x[\"name\"]\n",
    "print(x)\n",
    "\n",
    "#We've created two variables x and y which both point to the same object. \n",
    "#Because of this, if we modify the list via one of its names, we'll see that the \"other\" list will be modified as well\n"
   ]
  },
  {
   "cell_type": "markdown",
   "metadata": {
    "tags": [
     "exercise"
    ]
   },
   "source": [
    "__Exercise 1.2 (10 points).__ Are strings mutable? Give an example and explain your reasoning. _Hint: It's a good idea to confirm your answer by checking the Python 3 documentation._\n",
    "\n",
    "Next, read [the documentation](https://docs.python.org/3/library/stdtypes.html#str.replace) for the string `.replace()` method. Give an example of using the method and explain how it fits in with your understanding of whether or not strings are mutable."
   ]
  },
  {
   "cell_type": "code",
   "execution_count": 1,
   "metadata": {},
   "outputs": [
    {
     "name": "stdout",
     "output_type": "stream",
     "text": [
      "Foo\n",
      "Foo\n",
      "Doo\n"
     ]
    }
   ],
   "source": [
    "''' \n",
    "The string objects themselves are immutable. But the variable which points to the string, is mutable.\n",
    "'''\n",
    "a = \"Foo\"\n",
    "b = a\n",
    "#a[1] = \"n\"\n",
    "print (a)\n",
    "print (b)\n",
    "\n",
    "#The string 'Foo' is immutable but the variable a which points to the string is mutable so therefore replace is able to\n",
    "#change the the variable that points to the string\n",
    "\n",
    "print (a.replace(\"Foo\", \"Doo\"))"
   ]
  },
  {
   "cell_type": "markdown",
   "metadata": {
    "tags": [
     "exercise"
    ]
   },
   "source": [
    "## Writing Functions\n",
    "\n",
    "__Exercise 1.3 (10 points).__ Write a function `mean` that takes a list of numbers as input and returns their mean as output. Test your function on at least two examples."
   ]
  },
  {
   "cell_type": "code",
   "execution_count": 14,
   "metadata": {},
   "outputs": [
    {
     "name": "stdout",
     "output_type": "stream",
     "text": [
      "3.5\n",
      "2.0\n"
     ]
    }
   ],
   "source": [
    "def mean(list):\n",
    "    mean = sum(list)/len(list)\n",
    "    print(mean)\n",
    "\n",
    "list1 = [1, 2, 3, 4, 5, 6]\n",
    "list2 = [1, 2, 3]\n",
    "func(list1)\n",
    "func(list2)"
   ]
  },
  {
   "cell_type": "markdown",
   "metadata": {
    "tags": [
     "exercise"
    ]
   },
   "source": [
    "__Exercise 1.4 (10 points).__ For the function you wrote in Exercise 1.3, what happens if the input list is empty or contains non-numeric elements? Create a new version of your function called `better_mean` that returns `None` when either of these unusual cases occur.\n",
    "\n",
    "_Hint: A similar problem is discussed in [Section 6.8](http://greenteapress.com/thinkpython2/html/thinkpython2007.html#sec77) of Think Python._"
   ]
  },
  {
   "cell_type": "code",
   "execution_count": 7,
   "metadata": {},
   "outputs": [
    {
     "name": "stdout",
     "output_type": "stream",
     "text": [
      "3.5\n",
      "None\n"
     ]
    }
   ],
   "source": [
    "def better_mean(list):\n",
    "    if not all(isinstance(x, int) for x in list):\n",
    "        return None\n",
    "    elif len(list) == 0: \n",
    "        return None\n",
    "    else:\n",
    "        mean = sum(list) / len(list)\n",
    "        return mean\n",
    "    \n",
    "list1 = [1, 2, 3, 4, 5, 6]\n",
    "list2 = [1, 2, 'w']\n",
    "print(better_mean(list1))\n",
    "print(better_mean(list2))"
   ]
  },
  {
   "cell_type": "markdown",
   "metadata": {
    "tags": [
     "exercise"
    ]
   },
   "source": [
    "__Exercise 1.5 (10 points).__ Read [Section 4.9](http://greenteapress.com/thinkpython2/html/thinkpython2005.html#sec50) of Think Python. Create a new version of your function from Exercise 1.4 called `best_mean` that includes a docstring explaining how to use the function. Give an example to show that your docstring works with Python's built-in help system."
   ]
  },
  {
   "cell_type": "code",
   "execution_count": 5,
   "metadata": {},
   "outputs": [
    {
     "name": "stdout",
     "output_type": "stream",
     "text": [
      "3.5\n",
      "2.0\n"
     ]
    }
   ],
   "source": [
    "def best_mean(list):\n",
    "    \"\"\"\n",
    "    Function to find the mean which is the average of a list of numbers. \n",
    "    The function takes in a list and returns the mean value.\n",
    "    \"\"\"\n",
    "    if not all(isinstance(x, int) for x in list):\n",
    "        return None\n",
    "    elif len(list) == 0: \n",
    "        return None\n",
    "    else:\n",
    "        mean = sum(list) / len(list)\n",
    "        return mean\n",
    "    \n",
    "\n",
    "list1 = [1, 2, 3, 4, 5, 6]\n",
    "list2 = [1, 2, 3]\n",
    "print(best_mean(list1))\n",
    "print(best_mean(list2))"
   ]
  },
  {
   "cell_type": "markdown",
   "metadata": {
    "tags": [
     "exercise"
    ]
   },
   "source": [
    "__Exercise 1.6 (10 points).__ Write a function `median` that takes a list of numbers as input and returns their median as output. Document your function with a docstring. Test your function on at least two examples."
   ]
  },
  {
   "cell_type": "code",
   "execution_count": 2,
   "metadata": {},
   "outputs": [
    {
     "ename": "TypeError",
     "evalue": "list indices must be integers or slices, not float",
     "output_type": "error",
     "traceback": [
      "\u001b[0;31m---------------------------------------------------------------------------\u001b[0m",
      "\u001b[0;31mTypeError\u001b[0m                                 Traceback (most recent call last)",
      "\u001b[0;32m<ipython-input-2-9f2870681ec8>\u001b[0m in \u001b[0;36m<module>\u001b[0;34m\u001b[0m\n\u001b[1;32m     13\u001b[0m \u001b[0mlist1\u001b[0m \u001b[0;34m=\u001b[0m \u001b[0;34m[\u001b[0m\u001b[0;36m1\u001b[0m\u001b[0;34m,\u001b[0m \u001b[0;36m2\u001b[0m\u001b[0;34m,\u001b[0m \u001b[0;36m3\u001b[0m\u001b[0;34m,\u001b[0m \u001b[0;36m4\u001b[0m\u001b[0;34m,\u001b[0m \u001b[0;36m5\u001b[0m\u001b[0;34m,\u001b[0m \u001b[0;36m6\u001b[0m\u001b[0;34m]\u001b[0m\u001b[0;34m\u001b[0m\u001b[0;34m\u001b[0m\u001b[0m\n\u001b[1;32m     14\u001b[0m \u001b[0mlist2\u001b[0m \u001b[0;34m=\u001b[0m \u001b[0;34m[\u001b[0m\u001b[0;36m1\u001b[0m\u001b[0;34m,\u001b[0m \u001b[0;36m2\u001b[0m\u001b[0;34m,\u001b[0m \u001b[0;36m3\u001b[0m\u001b[0;34m]\u001b[0m\u001b[0;34m\u001b[0m\u001b[0;34m\u001b[0m\u001b[0m\n\u001b[0;32m---> 15\u001b[0;31m \u001b[0mmedian\u001b[0m\u001b[0;34m(\u001b[0m\u001b[0mlist1\u001b[0m\u001b[0;34m)\u001b[0m\u001b[0;34m\u001b[0m\u001b[0;34m\u001b[0m\u001b[0m\n\u001b[0m\u001b[1;32m     16\u001b[0m \u001b[0mmedian\u001b[0m\u001b[0;34m(\u001b[0m\u001b[0mlist2\u001b[0m\u001b[0;34m)\u001b[0m\u001b[0;34m\u001b[0m\u001b[0;34m\u001b[0m\u001b[0m\n",
      "\u001b[0;32m<ipython-input-2-9f2870681ec8>\u001b[0m in \u001b[0;36mmedian\u001b[0;34m(list)\u001b[0m\n\u001b[1;32m      5\u001b[0m     \u001b[0mlist\u001b[0m\u001b[0;34m.\u001b[0m\u001b[0msort\u001b[0m\u001b[0;34m(\u001b[0m\u001b[0;34m)\u001b[0m\u001b[0;34m\u001b[0m\u001b[0;34m\u001b[0m\u001b[0m\n\u001b[1;32m      6\u001b[0m     \u001b[0;32mif\u001b[0m \u001b[0;34m(\u001b[0m\u001b[0mlen\u001b[0m\u001b[0;34m(\u001b[0m\u001b[0mlist\u001b[0m\u001b[0;34m)\u001b[0m \u001b[0;34m%\u001b[0m \u001b[0;36m2\u001b[0m \u001b[0;34m==\u001b[0m \u001b[0;36m0\u001b[0m\u001b[0;34m)\u001b[0m\u001b[0;34m:\u001b[0m\u001b[0;34m\u001b[0m\u001b[0;34m\u001b[0m\u001b[0m\n\u001b[0;32m----> 7\u001b[0;31m         \u001b[0mmedian\u001b[0m \u001b[0;34m=\u001b[0m \u001b[0;34m(\u001b[0m\u001b[0mlist\u001b[0m\u001b[0;34m[\u001b[0m\u001b[0;34m(\u001b[0m\u001b[0mlen\u001b[0m\u001b[0;34m(\u001b[0m\u001b[0mlist\u001b[0m\u001b[0;34m)\u001b[0m\u001b[0;34m)\u001b[0m\u001b[0;34m/\u001b[0m\u001b[0;36m2\u001b[0m\u001b[0;34m]\u001b[0m \u001b[0;34m+\u001b[0m \u001b[0mlist\u001b[0m\u001b[0;34m[\u001b[0m\u001b[0;34m(\u001b[0m\u001b[0mlen\u001b[0m\u001b[0;34m(\u001b[0m\u001b[0mlist\u001b[0m\u001b[0;34m)\u001b[0m\u001b[0;34m)\u001b[0m\u001b[0;34m/\u001b[0m\u001b[0;36m2\u001b[0m\u001b[0;34m-\u001b[0m\u001b[0;36m1\u001b[0m\u001b[0;34m]\u001b[0m\u001b[0;34m)\u001b[0m \u001b[0;34m/\u001b[0m \u001b[0;36m2\u001b[0m\u001b[0;34m\u001b[0m\u001b[0;34m\u001b[0m\u001b[0m\n\u001b[0m\u001b[1;32m      8\u001b[0m         \u001b[0mprint\u001b[0m\u001b[0;34m(\u001b[0m\u001b[0mmedian\u001b[0m\u001b[0;34m)\u001b[0m\u001b[0;34m\u001b[0m\u001b[0;34m\u001b[0m\u001b[0m\n\u001b[1;32m      9\u001b[0m     \u001b[0;32melse\u001b[0m\u001b[0;34m:\u001b[0m\u001b[0;34m\u001b[0m\u001b[0;34m\u001b[0m\u001b[0m\n",
      "\u001b[0;31mTypeError\u001b[0m: list indices must be integers or slices, not float"
     ]
    }
   ],
   "source": [
    "def median(list):\n",
    "    \"\"\"\n",
    "    Function to find the median which is the \"middle\" of a sorted list of numbers.\n",
    "    \"\"\"\n",
    "    list.sort()\n",
    "    if (len(list) % 2 == 0):\n",
    "        median = (list[(len(list))//2] + list[(len(list))//2-1]) / 2\n",
    "        print(median)\n",
    "    else:\n",
    "        median = list[(len(list)-1)//2]\n",
    "        print(median)\n",
    " \n",
    "list1 = [1, 2, 3, 4, 5, 6]\n",
    "list2 = [1, 2, 3]\n",
    "median(list1)\n",
    "median(list2)"
   ]
  },
  {
   "cell_type": "markdown",
   "metadata": {
    "tags": [
     "exercise"
    ]
   },
   "source": [
    "## Finding Exponential Roots\n",
    "\n",
    "The Newton-Raphson algorithm is an algorithm for finding the zeroes of a mathematical function. We can use the Newton-Raphson algorithm to find zeroes of the function\n",
    "\n",
    "$$\n",
    "f(x) = x^p - c\n",
    "$$\n",
    "\n",
    "where $p$ and $c$ are constants. For example, if we choose $p = 2$ and $c = 5$, the Newton-Raphson algorithm finds solutions to\n",
    "\n",
    "$$\n",
    "0 = x^2 - 5\n",
    "$$\n",
    "\n",
    "In other words, we can use the algorithm to find square roots. By changing $p$, we can also find other kinds of exponential roots.\n",
    "\n",
    "\n",
    "The algorithm works by starting from an initial guess $x_0$ and then iteratively evaluating\n",
    "\n",
    "$$\n",
    "x_{n+1} = x_n - \\frac{f(x_n)}{f'(x_n)}\n",
    "$$\n",
    "\n",
    "for $n = 0, 1, 2, \\dots, N$ until reaching a result $X_{N+1}$ with acceptable accuracy. The initial guess does not need to be an excellent guess, but can affect which zero is found.\n",
    "\n",
    "For our specific function $f$, note that $f'(x) = px^{p-1}$.\n",
    "\n",
    "__Exercise 1.7 (20 points).__ Write a function `root` that uses the Newton-Raphson algorithm to compute one of the $p$-th roots for a constant $c$. Your function does not need to find complex roots, only real roots. Your function should have arguments\n",
    "\n",
    "* `c`, the constant\n",
    "* `p`, the power\n",
    "* `x0`, the initial guess\n",
    "* `N`, the maximum number of iterations\n",
    "\n",
    "Test your function for $c = 2$, $p = 2$, $N = 100$. Try different values of $x_0$. Can you find initial guesses to get both roots? Explain what happens when the initial guess is $x_0 = 0$."
   ]
  },
  {
   "cell_type": "code",
   "execution_count": 8,
   "metadata": {},
   "outputs": [
    {
     "name": "stdout",
     "output_type": "stream",
     "text": [
      "The value of the root for  1 iteration:  -64.5077519379845\n",
      "The value of the root for  2 iteration:  -32.2693779818505\n",
      "The value of the root for  3 iteration:  -16.16567812249644\n",
      "The value of the root for  4 iteration:  -8.144698513875104\n",
      "The value of the root for  5 iteration:  -4.195128510005842\n",
      "The value of the root for  6 iteration:  -2.335935975348291\n",
      "The value of the root for  7 iteration:  -1.5960619125733067\n",
      "The value of the root for  8 iteration:  -1.4245730672926826\n",
      "The value of the root for  9 iteration:  -1.4142512295677945\n",
      "The value of the root for  10 iteration:  -1.4142135628747095\n",
      "The value of the root for  11 iteration:  -1.4142135623730951\n",
      "The value of the root for  12 iteration:  -1.414213562373095\n",
      "The value of the root for  13 iteration:  -1.4142135623730951\n",
      "The value of the root for  14 iteration:  -1.414213562373095\n",
      "The value of the root for  15 iteration:  -1.4142135623730951\n",
      "The value of the root for  16 iteration:  -1.414213562373095\n",
      "The value of the root for  17 iteration:  -1.4142135623730951\n",
      "The value of the root for  18 iteration:  -1.414213562373095\n",
      "The value of the root for  19 iteration:  -1.4142135623730951\n",
      "The value of the root for  20 iteration:  -1.414213562373095\n",
      "The value of the root for  21 iteration:  -1.4142135623730951\n",
      "The value of the root for  22 iteration:  -1.414213562373095\n",
      "The value of the root for  23 iteration:  -1.4142135623730951\n",
      "The value of the root for  24 iteration:  -1.414213562373095\n",
      "The value of the root for  25 iteration:  -1.4142135623730951\n",
      "The value of the root for  26 iteration:  -1.414213562373095\n",
      "The value of the root for  27 iteration:  -1.4142135623730951\n",
      "The value of the root for  28 iteration:  -1.414213562373095\n",
      "The value of the root for  29 iteration:  -1.4142135623730951\n",
      "The value of the root for  30 iteration:  -1.414213562373095\n",
      "The value of the root for  31 iteration:  -1.4142135623730951\n",
      "The value of the root for  32 iteration:  -1.414213562373095\n",
      "The value of the root for  33 iteration:  -1.4142135623730951\n",
      "The value of the root for  34 iteration:  -1.414213562373095\n",
      "The value of the root for  35 iteration:  -1.4142135623730951\n",
      "The value of the root for  36 iteration:  -1.414213562373095\n",
      "The value of the root for  37 iteration:  -1.4142135623730951\n",
      "The value of the root for  38 iteration:  -1.414213562373095\n",
      "The value of the root for  39 iteration:  -1.4142135623730951\n",
      "The value of the root for  40 iteration:  -1.414213562373095\n",
      "The value of the root for  41 iteration:  -1.4142135623730951\n",
      "The value of the root for  42 iteration:  -1.414213562373095\n",
      "The value of the root for  43 iteration:  -1.4142135623730951\n",
      "The value of the root for  44 iteration:  -1.414213562373095\n",
      "The value of the root for  45 iteration:  -1.4142135623730951\n",
      "The value of the root for  46 iteration:  -1.414213562373095\n",
      "The value of the root for  47 iteration:  -1.4142135623730951\n",
      "The value of the root for  48 iteration:  -1.414213562373095\n",
      "The value of the root for  49 iteration:  -1.4142135623730951\n",
      "The value of the root for  50 iteration:  -1.414213562373095\n",
      "The value of the root for  51 iteration:  -1.4142135623730951\n",
      "The value of the root for  52 iteration:  -1.414213562373095\n",
      "The value of the root for  53 iteration:  -1.4142135623730951\n",
      "The value of the root for  54 iteration:  -1.414213562373095\n",
      "The value of the root for  55 iteration:  -1.4142135623730951\n",
      "The value of the root for  56 iteration:  -1.414213562373095\n",
      "The value of the root for  57 iteration:  -1.4142135623730951\n",
      "The value of the root for  58 iteration:  -1.414213562373095\n",
      "The value of the root for  59 iteration:  -1.4142135623730951\n",
      "The value of the root for  60 iteration:  -1.414213562373095\n",
      "The value of the root for  61 iteration:  -1.4142135623730951\n",
      "The value of the root for  62 iteration:  -1.414213562373095\n",
      "The value of the root for  63 iteration:  -1.4142135623730951\n",
      "The value of the root for  64 iteration:  -1.414213562373095\n",
      "The value of the root for  65 iteration:  -1.4142135623730951\n",
      "The value of the root for  66 iteration:  -1.414213562373095\n",
      "The value of the root for  67 iteration:  -1.4142135623730951\n",
      "The value of the root for  68 iteration:  -1.414213562373095\n",
      "The value of the root for  69 iteration:  -1.4142135623730951\n",
      "The value of the root for  70 iteration:  -1.414213562373095\n",
      "The value of the root for  71 iteration:  -1.4142135623730951\n",
      "The value of the root for  72 iteration:  -1.414213562373095\n",
      "The value of the root for  73 iteration:  -1.4142135623730951\n",
      "The value of the root for  74 iteration:  -1.414213562373095\n",
      "The value of the root for  75 iteration:  -1.4142135623730951\n",
      "The value of the root for  76 iteration:  -1.414213562373095\n",
      "The value of the root for  77 iteration:  -1.4142135623730951\n",
      "The value of the root for  78 iteration:  -1.414213562373095\n",
      "The value of the root for  79 iteration:  -1.4142135623730951\n",
      "The value of the root for  80 iteration:  -1.414213562373095\n",
      "The value of the root for  81 iteration:  -1.4142135623730951\n",
      "The value of the root for  82 iteration:  -1.414213562373095\n",
      "The value of the root for  83 iteration:  -1.4142135623730951\n",
      "The value of the root for  84 iteration:  -1.414213562373095\n",
      "The value of the root for  85 iteration:  -1.4142135623730951\n",
      "The value of the root for  86 iteration:  -1.414213562373095\n",
      "The value of the root for  87 iteration:  -1.4142135623730951\n",
      "The value of the root for  88 iteration:  -1.414213562373095\n",
      "The value of the root for  89 iteration:  -1.4142135623730951\n",
      "The value of the root for  90 iteration:  -1.414213562373095\n",
      "The value of the root for  91 iteration:  -1.4142135623730951\n",
      "The value of the root for  92 iteration:  -1.414213562373095\n",
      "The value of the root for  93 iteration:  -1.4142135623730951\n",
      "The value of the root for  94 iteration:  -1.414213562373095\n",
      "The value of the root for  95 iteration:  -1.4142135623730951\n",
      "The value of the root for  96 iteration:  -1.414213562373095\n",
      "The value of the root for  97 iteration:  -1.4142135623730951\n",
      "The value of the root for  98 iteration:  -1.414213562373095\n",
      "The value of the root for  99 iteration:  -1.4142135623730951\n",
      "The value of the root for  100 iteration:  -1.414213562373095\n"
     ]
    },
    {
     "data": {
      "text/plain": [
       "'\\nIn the above example for p = 2, c = 2 and N = 100, the first root is 1.4142. I concluded this by supplying different values\\nto x0 and realizing that for the 50 iterations, they all converge to 1.4142 at some point or the other.\\nIn terms of the values of x0, and observation that I made was the larger the value the more the iterations it takes\\nto converge to find the root. \\nWhen the value of x0 is 0, the equation does not work as division by 0 is not possible. \\n'"
      ]
     },
     "execution_count": 8,
     "metadata": {},
     "output_type": "execute_result"
    }
   ],
   "source": [
    "# 𝑓(𝑥) = 𝑥^𝑝 − 𝑐\n",
    "def function(x0, p, c):\n",
    "    \"\"\"\n",
    "    Function that takes initial guess(x0), the power (p), the constant (c) and calculates the value of the function. \n",
    "    \"\"\"\n",
    "    xPowP = pow(x0, p)\n",
    "    res = xPowP - c\n",
    "    #print(res)\n",
    "    return res\n",
    "\n",
    "#func(2, 3, 2) = 6\n",
    "\n",
    "#𝑓′(𝑥)=𝑝𝑥^(𝑝−1)\n",
    "def derivative(x0, p, c): \n",
    "    \"\"\"\n",
    "    Function that takes initial guess(x0), the power (p), the constant (c) and calculates the value of the derivative. \n",
    "    \"\"\"\n",
    "    xPowP = pow(x0, p - 1)\n",
    "    res = p * xPowP\n",
    "    #print(res)\n",
    "    return res\n",
    "\n",
    "#derivFunc(2, 3, 2) = 12\n",
    "\n",
    "def root(x0, p, c, N):\n",
    "    \"\"\" \n",
    "    Finding the zeroes of a mathematical function. The arguments of the function are c, a constant,\n",
    "    p, the power of the function, x0, the initial guess, N, the maximum number of iterations.\n",
    "    \"\"\" \n",
    "    for i in range(1, N + 1):\n",
    "        res = function(x0, p, c) / derivative(x0, p, c)\n",
    "        x0 = x0 - res \n",
    "        print(\"The value of the root for \", i, \"iteration: \", x0) #\"%.4f\"% x0) \n",
    "    \n",
    "    #res = func(x0, p, c) / derivFunc(x0, p, c)\n",
    "    #x1 = x0 - res \n",
    "    #print(\"The value of the root for \",  \"iteration: \", \"%.4f\"% x1)\n",
    "\n",
    "root(-129, 2, 2, 100) \n",
    "\"\"\"\n",
    "In the above example for p = 2, c = 2 and N = 100, the first root is 1.4142. I concluded this by supplying different values\n",
    "to x0 and realizing that for the 50 iterations, they all converge to 1.4142 at some point or the other. The other root\n",
    "is the negative of this root.\n",
    "In terms of the values of x0, and observation that I made was the larger the value the more the iterations it takes\n",
    "to converge to find the root. \n",
    "When the value of x0 is 0, the equation does not work as division by 0 is not possible. \n",
    "\"\"\""
   ]
  },
  {
   "cell_type": "markdown",
   "metadata": {
    "tags": [
     "exercise"
    ]
   },
   "source": [
    "__Exercise 1.8 (20 points).__ Read the Python documentation for the string `.format()` method (see [here](https://docs.python.org/3/library/stdtypes.html#str.format)). Create a new version of your function from Exercise 1.7 called `root_print` that neatly prints the iteration number and estimate for each iteration up to $N$.\n",
    "\n",
    "Test your function for $c = 7$, $p = 3$, $x_0 = 2$, $N = 50$. About how many iterations does it take for the first 3 digits to stabilize at the correct values?"
   ]
  },
  {
   "cell_type": "code",
   "execution_count": 20,
   "metadata": {},
   "outputs": [
    {
     "name": "stdout",
     "output_type": "stream",
     "text": [
      "The value of the root for  1 iteration: 1.917\n",
      "The value of the root for  2 iteration: 1.913\n",
      "The value of the root for  3 iteration: 1.913\n",
      "The value of the root for  4 iteration: 1.913\n",
      "The value of the root for  5 iteration: 1.913\n",
      "The value of the root for  6 iteration: 1.913\n",
      "The value of the root for  7 iteration: 1.913\n",
      "The value of the root for  8 iteration: 1.913\n",
      "The value of the root for  9 iteration: 1.913\n",
      "The value of the root for  10 iteration: 1.913\n",
      "The value of the root for  11 iteration: 1.913\n",
      "The value of the root for  12 iteration: 1.913\n",
      "The value of the root for  13 iteration: 1.913\n",
      "The value of the root for  14 iteration: 1.913\n",
      "The value of the root for  15 iteration: 1.913\n",
      "The value of the root for  16 iteration: 1.913\n",
      "The value of the root for  17 iteration: 1.913\n",
      "The value of the root for  18 iteration: 1.913\n",
      "The value of the root for  19 iteration: 1.913\n",
      "The value of the root for  20 iteration: 1.913\n",
      "The value of the root for  21 iteration: 1.913\n",
      "The value of the root for  22 iteration: 1.913\n",
      "The value of the root for  23 iteration: 1.913\n",
      "The value of the root for  24 iteration: 1.913\n",
      "The value of the root for  25 iteration: 1.913\n",
      "The value of the root for  26 iteration: 1.913\n",
      "The value of the root for  27 iteration: 1.913\n",
      "The value of the root for  28 iteration: 1.913\n",
      "The value of the root for  29 iteration: 1.913\n",
      "The value of the root for  30 iteration: 1.913\n",
      "The value of the root for  31 iteration: 1.913\n",
      "The value of the root for  32 iteration: 1.913\n",
      "The value of the root for  33 iteration: 1.913\n",
      "The value of the root for  34 iteration: 1.913\n",
      "The value of the root for  35 iteration: 1.913\n",
      "The value of the root for  36 iteration: 1.913\n",
      "The value of the root for  37 iteration: 1.913\n",
      "The value of the root for  38 iteration: 1.913\n",
      "The value of the root for  39 iteration: 1.913\n",
      "The value of the root for  40 iteration: 1.913\n",
      "The value of the root for  41 iteration: 1.913\n",
      "The value of the root for  42 iteration: 1.913\n",
      "The value of the root for  43 iteration: 1.913\n",
      "The value of the root for  44 iteration: 1.913\n",
      "The value of the root for  45 iteration: 1.913\n",
      "The value of the root for  46 iteration: 1.913\n",
      "The value of the root for  47 iteration: 1.913\n",
      "The value of the root for  48 iteration: 1.913\n",
      "The value of the root for  49 iteration: 1.913\n",
      "The value of the root for  50 iteration: 1.913\n"
     ]
    }
   ],
   "source": [
    "# 𝑓(𝑥) = 𝑥^𝑝 − 𝑐\n",
    "def func(x0, p, c):\n",
    "    \"\"\"\n",
    "    Function that takes initial guess(x0), the power (p), the constant (c) and calculates the value of the function. \n",
    "    \"\"\"\n",
    "    xPowP = pow(x0, p)\n",
    "    res = xPowP - c\n",
    "    #print(res)\n",
    "    return res\n",
    "\n",
    "#func(2, 3, 2) = 6\n",
    "\n",
    "#𝑓′(𝑥)=𝑝𝑥^(𝑝−1)\n",
    "def derivFunc(x0, p, c): \n",
    "    \"\"\"\n",
    "    Function that takes initial guess(x0), the power (p), the constant (c) and calculates the value of the derivative. \n",
    "    \"\"\"\n",
    "    xPowP = pow(x0, p - 1)\n",
    "    res = p * xPowP\n",
    "    #print(res)\n",
    "    return res\n",
    "\n",
    "#derivFunc(2, 3, 2) = 12\n",
    "\n",
    "def root_print(x0, p, c, N):\n",
    "    \"\"\" \n",
    "    Finding the zeroes of a mathematical function. The arguments of the function are c, a constant,\n",
    "    p, the power of the function, x0, the initial guess, N, the maximum number of iterations.\n",
    "    \"\"\" \n",
    "    for i in range(1, N + 1):\n",
    "        res = func(x0, p, c) / derivFunc(x0, p, c)\n",
    "        x0 = x0 - res \n",
    "        print(\"The value of the root for \", i, \"iteration: {:.3f}\".format(x0, '%.4f')) \n",
    "\n",
    "root_print(2, 3, 7, 50) \n",
    "#It takes 2 iterations for the number to stabalize to a value that is the root"
   ]
  },
  {
   "cell_type": "markdown",
   "metadata": {
    "tags": [
     "exercise"
    ]
   },
   "source": [
    "## Fibonacci Words\n",
    "\n",
    "A [Fibonacci word](https://en.wikipedia.org/wiki/Fibonacci_word) is a string of 0s and 1s constructed by repeatedly concatenating strings. The first two words are\n",
    "\n",
    "```\n",
    "S0 = \"0\"\n",
    "S1 = \"01\"\n",
    "```\n",
    "\n",
    "Then each word is formed by concatenating the previous two words in the sequence. For instance, `S2`, is formed by concatenating `S1` and `S0`. So\n",
    "\n",
    "```\n",
    "S2 = \"010\"\n",
    "S3 = \"01001\"\n",
    "```\n",
    "\n",
    "__Exercise 1.9 (20 points).__ Write a function `fib` that computes Fibonacci words. Your function should take an argument `n` that specifies which word to compute.\n",
    "\n",
    "Use your function to print the first 10 Fibonacci words."
   ]
  },
  {
   "cell_type": "code",
   "execution_count": 12,
   "metadata": {},
   "outputs": [
    {
     "name": "stdout",
     "output_type": "stream",
     "text": [
      "Fib word 0 is 0\n",
      "Fib word 1 is 01\n",
      "Fib word 2 is 010\n",
      "Fib word 3 is 01001\n",
      "Fib word 4 is 01001010\n",
      "Fib word 5 is 0100101001001\n",
      "Fib word 6 is 010010100100101001010\n",
      "Fib word 7 is 0100101001001010010100100101001001\n",
      "Fib word 8 is 0100101001001010010100100101001001010010100100101001010\n",
      "Fib word 9 is 01001010010010100101001001010010010100101001001010010100100101001001010010100100101001001\n",
      "Fib word 10 is 010010100100101001010010010100100101001010010010100101001001010010010100101001001010010010100101001001010010100100101001001010010100100101001010\n"
     ]
    }
   ],
   "source": [
    "def fib(n):\n",
    "    \"\"\"\n",
    "    A Fibonacci word is a string of 0s and 1s constructed by repeatedly concatenating strings.\n",
    "    Take in the number of words to output as an argument.\n",
    "    \"\"\"\n",
    "    str0 = \"0\"\n",
    "    str01 = \"01\"\n",
    "    for i in range(2, n + 1): \n",
    "        hold = str01 \n",
    "        str01 += str0 \n",
    "        str0 = hold \n",
    "    return str01\n",
    "\n",
    "#n = 3\n",
    "#print (fib(n)) \n",
    "\n",
    "def firstTenFib():\n",
    "    print(\"Fib word\", 0, \"is\", \"0\")\n",
    "    print(\"Fib word\", 1, \"is\", \"01\")\n",
    "    for i in range(2, 11):\n",
    "        print(\"Fib word\", i, \"is\", fib(i))\n",
    "    \n",
    "\n",
    "firstTenFib()\n"
   ]
  },
  {
   "cell_type": "code",
   "execution_count": null,
   "metadata": {},
   "outputs": [],
   "source": []
  }
 ],
 "metadata": {
  "celltoolbar": "Tags",
  "kernelspec": {
   "display_name": "Python 3",
   "language": "python",
   "name": "python3"
  },
  "language_info": {
   "codemirror_mode": {
    "name": "ipython",
    "version": 3
   },
   "file_extension": ".py",
   "mimetype": "text/x-python",
   "name": "python",
   "nbconvert_exporter": "python",
   "pygments_lexer": "ipython3",
   "version": "3.7.1"
  }
 },
 "nbformat": 4,
 "nbformat_minor": 2
}
